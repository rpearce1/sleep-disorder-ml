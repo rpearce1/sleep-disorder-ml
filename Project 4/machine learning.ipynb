{
 "cells": [
  {
   "cell_type": "code",
   "execution_count": 1,
   "metadata": {},
   "outputs": [],
   "source": [
    "# Import necessary libraries\n",
    "import streamlit as st\n",
    "import pandas as pd\n",
    "import numpy as np\n",
    "from sklearn.model_selection import train_test_split\n",
    "from sklearn.preprocessing import LabelEncoder, StandardScaler\n",
    "from sklearn.linear_model import LinearRegression\n",
    "from sklearn.metrics import mean_absolute_percentage_error, mean_squared_error, r2_score\n",
    "from lazypredict.Supervised import LazyClassifier, LazyRegressor\n",
    "import pickle"
   ]
  },
  {
   "cell_type": "code",
   "execution_count": 2,
   "metadata": {},
   "outputs": [],
   "source": [
    "# Load data from CSV file\n",
    "# Replace 'Sleep_health_and_lifestyle_dataset.csv' with the actual file path or URL\n",
    "sleep_data = pd.read_csv(\"c:\\\\Users\\\\Gabrellea\\\\OneDrive\\\\Documents\\\\UNC Chapel Hill\\\\Project 4\\Sleep_health_and_lifestyle_dataset_cleaned.csv\")"
   ]
  },
  {
   "cell_type": "code",
   "execution_count": 3,
   "metadata": {},
   "outputs": [
    {
     "data": {
      "text/html": [
       "<div>\n",
       "<style scoped>\n",
       "    .dataframe tbody tr th:only-of-type {\n",
       "        vertical-align: middle;\n",
       "    }\n",
       "\n",
       "    .dataframe tbody tr th {\n",
       "        vertical-align: top;\n",
       "    }\n",
       "\n",
       "    .dataframe thead th {\n",
       "        text-align: right;\n",
       "    }\n",
       "</style>\n",
       "<table border=\"1\" class=\"dataframe\">\n",
       "  <thead>\n",
       "    <tr style=\"text-align: right;\">\n",
       "      <th></th>\n",
       "      <th>Person ID</th>\n",
       "      <th>Gender</th>\n",
       "      <th>Age</th>\n",
       "      <th>Occupation</th>\n",
       "      <th>Sleep Duration</th>\n",
       "      <th>Quality of Sleep</th>\n",
       "      <th>Physical Activity Level</th>\n",
       "      <th>Stress Level</th>\n",
       "      <th>BMI Category</th>\n",
       "      <th>BP Systolic</th>\n",
       "      <th>BP Diastolic</th>\n",
       "      <th>Daily Steps</th>\n",
       "      <th>Sleep Disorder</th>\n",
       "      <th>Sleep Disorder Measure</th>\n",
       "    </tr>\n",
       "  </thead>\n",
       "  <tbody>\n",
       "    <tr>\n",
       "      <th>0</th>\n",
       "      <td>1</td>\n",
       "      <td>Male</td>\n",
       "      <td>27</td>\n",
       "      <td>Software Engineer</td>\n",
       "      <td>6.10</td>\n",
       "      <td>6</td>\n",
       "      <td>42</td>\n",
       "      <td>6</td>\n",
       "      <td>Overweight</td>\n",
       "      <td>126</td>\n",
       "      <td>83</td>\n",
       "      <td>4200</td>\n",
       "      <td>None</td>\n",
       "      <td>1</td>\n",
       "    </tr>\n",
       "    <tr>\n",
       "      <th>1</th>\n",
       "      <td>2</td>\n",
       "      <td>Male</td>\n",
       "      <td>28</td>\n",
       "      <td>Doctor</td>\n",
       "      <td>6.20</td>\n",
       "      <td>6</td>\n",
       "      <td>60</td>\n",
       "      <td>8</td>\n",
       "      <td>Normal</td>\n",
       "      <td>125</td>\n",
       "      <td>80</td>\n",
       "      <td>10000</td>\n",
       "      <td>None</td>\n",
       "      <td>1</td>\n",
       "    </tr>\n",
       "    <tr>\n",
       "      <th>2</th>\n",
       "      <td>3</td>\n",
       "      <td>Male</td>\n",
       "      <td>28</td>\n",
       "      <td>Doctor</td>\n",
       "      <td>6.20</td>\n",
       "      <td>6</td>\n",
       "      <td>60</td>\n",
       "      <td>8</td>\n",
       "      <td>Normal</td>\n",
       "      <td>125</td>\n",
       "      <td>80</td>\n",
       "      <td>10000</td>\n",
       "      <td>None</td>\n",
       "      <td>1</td>\n",
       "    </tr>\n",
       "    <tr>\n",
       "      <th>3</th>\n",
       "      <td>4</td>\n",
       "      <td>Male</td>\n",
       "      <td>28</td>\n",
       "      <td>Sales Representative</td>\n",
       "      <td>5.90</td>\n",
       "      <td>4</td>\n",
       "      <td>30</td>\n",
       "      <td>8</td>\n",
       "      <td>Obese</td>\n",
       "      <td>140</td>\n",
       "      <td>90</td>\n",
       "      <td>3000</td>\n",
       "      <td>Sleep Apnea</td>\n",
       "      <td>2</td>\n",
       "    </tr>\n",
       "    <tr>\n",
       "      <th>4</th>\n",
       "      <td>5</td>\n",
       "      <td>Male</td>\n",
       "      <td>28</td>\n",
       "      <td>Sales Representative</td>\n",
       "      <td>5.90</td>\n",
       "      <td>4</td>\n",
       "      <td>30</td>\n",
       "      <td>8</td>\n",
       "      <td>Obese</td>\n",
       "      <td>140</td>\n",
       "      <td>90</td>\n",
       "      <td>3000</td>\n",
       "      <td>Sleep Apnea</td>\n",
       "      <td>2</td>\n",
       "    </tr>\n",
       "  </tbody>\n",
       "</table>\n",
       "</div>"
      ],
      "text/plain": [
       "   Person ID Gender  Age            Occupation  Sleep Duration  \\\n",
       "0          1   Male   27     Software Engineer            6.10   \n",
       "1          2   Male   28                Doctor            6.20   \n",
       "2          3   Male   28                Doctor            6.20   \n",
       "3          4   Male   28  Sales Representative            5.90   \n",
       "4          5   Male   28  Sales Representative            5.90   \n",
       "\n",
       "   Quality of Sleep  Physical Activity Level  Stress Level BMI Category  \\\n",
       "0                 6                       42             6   Overweight   \n",
       "1                 6                       60             8       Normal   \n",
       "2                 6                       60             8       Normal   \n",
       "3                 4                       30             8        Obese   \n",
       "4                 4                       30             8        Obese   \n",
       "\n",
       "   BP Systolic  BP Diastolic  Daily Steps Sleep Disorder  \\\n",
       "0          126            83         4200           None   \n",
       "1          125            80        10000           None   \n",
       "2          125            80        10000           None   \n",
       "3          140            90         3000    Sleep Apnea   \n",
       "4          140            90         3000    Sleep Apnea   \n",
       "\n",
       "   Sleep Disorder Measure  \n",
       "0                       1  \n",
       "1                       1  \n",
       "2                       1  \n",
       "3                       2  \n",
       "4                       2  "
      ]
     },
     "execution_count": 3,
     "metadata": {},
     "output_type": "execute_result"
    }
   ],
   "source": [
    "#Create a dataframe\n",
    "df = pd.DataFrame(sleep_data)\n",
    "df.head()"
   ]
  },
  {
   "cell_type": "code",
   "execution_count": 4,
   "metadata": {},
   "outputs": [
    {
     "name": "stdout",
     "output_type": "stream",
     "text": [
      "<class 'pandas.core.frame.DataFrame'>\n",
      "RangeIndex: 374 entries, 0 to 373\n",
      "Data columns (total 14 columns):\n",
      " #   Column                   Non-Null Count  Dtype  \n",
      "---  ------                   --------------  -----  \n",
      " 0   Person ID                374 non-null    int64  \n",
      " 1   Gender                   374 non-null    object \n",
      " 2   Age                      374 non-null    int64  \n",
      " 3   Occupation               374 non-null    object \n",
      " 4   Sleep Duration           374 non-null    float64\n",
      " 5   Quality of Sleep         374 non-null    int64  \n",
      " 6   Physical Activity Level  374 non-null    int64  \n",
      " 7   Stress Level             374 non-null    int64  \n",
      " 8   BMI Category             374 non-null    object \n",
      " 9   BP Systolic              374 non-null    int64  \n",
      " 10  BP Diastolic             374 non-null    int64  \n",
      " 11  Daily Steps              374 non-null    int64  \n",
      " 12  Sleep Disorder           374 non-null    object \n",
      " 13  Sleep Disorder Measure   374 non-null    int64  \n",
      "dtypes: float64(1), int64(9), object(4)\n",
      "memory usage: 41.0+ KB\n",
      "None\n"
     ]
    }
   ],
   "source": [
    "#Print basic information about the dataset\n",
    "print(df.info())"
   ]
  },
  {
   "cell_type": "code",
   "execution_count": 5,
   "metadata": {},
   "outputs": [],
   "source": [
    "# Categorize columns into numeric and categorical\n",
    "categoric = ['Gender', 'Occupation', 'BMI Category', 'Sleep Disorder']\n",
    "numeric = ['Age', 'Sleep Duration', 'Quality of Sleep', 'Physical Activity Level', 'Stress Level', 'Daily Steps', 'BP Systolic', 'BP Diastolic']"
   ]
  },
  {
   "cell_type": "code",
   "execution_count": 6,
   "metadata": {},
   "outputs": [
    {
     "name": "stdout",
     "output_type": "stream",
     "text": [
      "         Age  Sleep Duration  Quality of Sleep  Physical Activity Level  \\\n",
      "count 374.00          374.00            374.00                   374.00   \n",
      "mean   42.18            7.13              7.31                    59.17   \n",
      "std     8.67            0.80              1.20                    20.83   \n",
      "min    27.00            5.80              4.00                    30.00   \n",
      "25%    35.25            6.40              6.00                    45.00   \n",
      "50%    43.00            7.20              7.00                    60.00   \n",
      "75%    50.00            7.80              8.00                    75.00   \n",
      "max    59.00            8.50              9.00                    90.00   \n",
      "\n",
      "       Stress Level  Daily Steps  BP Systolic  BP Diastolic  \n",
      "count        374.00       374.00       374.00        374.00  \n",
      "mean           5.39      6816.84       128.55         84.65  \n",
      "std            1.77      1617.92         7.75          6.16  \n",
      "min            3.00      3000.00       115.00         75.00  \n",
      "25%            4.00      5600.00       125.00         80.00  \n",
      "50%            5.00      7000.00       130.00         85.00  \n",
      "75%            7.00      8000.00       135.00         90.00  \n",
      "max            8.00     10000.00       142.00         95.00  \n"
     ]
    }
   ],
   "source": [
    "# Display summary statistics for numeric columns\n",
    "print(df[numeric].describe().round(2))"
   ]
  },
  {
   "cell_type": "code",
   "execution_count": 14,
   "metadata": {},
   "outputs": [
    {
     "name": "stdout",
     "output_type": "stream",
     "text": [
      "0\n"
     ]
    }
   ],
   "source": [
    "# Handle missing values\n",
    "print(df.isnull().sum().sum())\n"
   ]
  },
  {
   "cell_type": "code",
   "execution_count": 15,
   "metadata": {},
   "outputs": [
    {
     "name": "stdout",
     "output_type": "stream",
     "text": [
      "Male      189\n",
      "Female    185\n",
      "Name: Gender, dtype: int64\n",
      "Nurse                   73\n",
      "Doctor                  71\n",
      "Engineer                63\n",
      "Lawyer                  47\n",
      "Teacher                 40\n",
      "Accountant              37\n",
      "Salesperson             32\n",
      "Software Engineer        4\n",
      "Scientist                4\n",
      "Sales Representative     2\n",
      "Manager                  1\n",
      "Name: Occupation, dtype: int64\n",
      "Normal        216\n",
      "Overweight    148\n",
      "Obese          10\n",
      "Name: BMI Category, dtype: int64\n"
     ]
    }
   ],
   "source": [
    "# Explore value counts for categorical columns\n",
    "print(df['Gender'].value_counts())\n",
    "print(df['Occupation'].value_counts())\n",
    "print(df['BMI Category'].value_counts())\n"
   ]
  },
  {
   "cell_type": "code",
   "execution_count": 16,
   "metadata": {},
   "outputs": [
    {
     "name": "stdout",
     "output_type": "stream",
     "text": [
      "Normal        216\n",
      "Overweight    148\n",
      "Obese          10\n",
      "Name: BMI Category, dtype: int64\n"
     ]
    }
   ],
   "source": [
    "# Modify 'BMI Category' values\n",
    "df.loc[df['BMI Category'] == 'Normal Weight', 'BMI Category'] = 'Normal'\n",
    "print(df['BMI Category'].value_counts())\n"
   ]
  },
  {
   "cell_type": "code",
   "execution_count": 17,
   "metadata": {},
   "outputs": [
    {
     "name": "stdout",
     "output_type": "stream",
     "text": [
      "None           219\n",
      "Sleep Apnea     78\n",
      "Insomnia        77\n",
      "Name: Sleep Disorder, dtype: int64\n"
     ]
    }
   ],
   "source": [
    "# Explore value counts for 'Sleep Disorder'\n",
    "print(df['Sleep Disorder'].value_counts())"
   ]
  },
  {
   "cell_type": "code",
   "execution_count": 18,
   "metadata": {},
   "outputs": [
    {
     "name": "stdout",
     "output_type": "stream",
     "text": [
      "  Sleep Disorder  Sleep Disorder Measure\n",
      "0           None                       1\n",
      "1           None                       1\n",
      "2           None                       1\n",
      "3    Sleep Apnea                       2\n",
      "4    Sleep Apnea                       2\n",
      "5       Insomnia                       3\n",
      "6       Insomnia                       3\n",
      "7           None                       1\n",
      "8           None                       1\n",
      "9           None                       1\n",
      "1    219\n",
      "2     78\n",
      "3     77\n",
      "Name: Sleep Disorder Measure, dtype: int64\n"
     ]
    }
   ],
   "source": [
    "# Create a new column 'Sleep Disorder Measure' based on 'Sleep Disorder', 'None'=0, 'Sleep Apnea'=1, 'Insomnia'=2\n",
    "# df['Sleep Disorder Measure'] = np.where(df['Sleep Disorder'] == 'No Disorder', 0, np.where(df['Sleep Disorder'] == 'Sleep Apnea', 1, 2))\n",
    "# df['Sleep Disorder Measure'] = df['Sleep Disorder Measure'].astype(int)\n",
    "# print(df['Sleep Disorder Measure'].value_counts())\n",
    "\n",
    "df['Sleep Disorder Measure'] = np.where(df['Sleep Disorder'] == 'None', 1, np.where(df['Sleep Disorder'] == 'Sleep Apnea', 2, 3))\n",
    "df['Sleep Disorder Measure'] = df['Sleep Disorder Measure'].astype(int)\n",
    "print(df[['Sleep Disorder', 'Sleep Disorder Measure']].head(10))\n",
    "print(df['Sleep Disorder Measure'].value_counts())"
   ]
  },
  {
   "cell_type": "code",
   "execution_count": 19,
   "metadata": {},
   "outputs": [],
   "source": [
    "# Drop unnecessary columns\n",
    "X = X = df.drop(['Person ID'], axis=1)\n",
    "y = df[['Stress Level']]"
   ]
  },
  {
   "cell_type": "code",
   "execution_count": 20,
   "metadata": {},
   "outputs": [],
   "source": [
    "# Label encode categorical columns and scale numeric columns\n",
    "le = LabelEncoder()\n",
    "scaler = StandardScaler()\n",
    "\n",
    "\n",
    "X[categoric] = X[categoric].apply(lambda col: le.fit_transform(col))\n",
    "\n",
    "X[numeric] = scaler.fit_transform(X[numeric])\n",
    "\n"
   ]
  },
  {
   "cell_type": "code",
   "execution_count": 25,
   "metadata": {},
   "outputs": [],
   "source": [
    "# Split the dataset into training and testing sets\n",
    "X_train, X_test, y_train, y_test = train_test_split(X, y, test_size=0.2, random_state=42)\n",
    "\n"
   ]
  },
  {
   "cell_type": "code",
   "execution_count": 26,
   "metadata": {},
   "outputs": [
    {
     "name": "stderr",
     "output_type": "stream",
     "text": [
      "100%|██████████| 42/42 [00:02<00:00, 17.96it/s]"
     ]
    },
    {
     "name": "stdout",
     "output_type": "stream",
     "text": [
      "[LightGBM] [Info] Auto-choosing col-wise multi-threading, the overhead of testing was 0.000089 seconds.\n",
      "You can set `force_col_wise=true` to remove the overhead.\n",
      "[LightGBM] [Info] Total Bins 141\n",
      "[LightGBM] [Info] Number of data points in the train set: 299, number of used features: 13\n",
      "[LightGBM] [Info] Start training from score 5.311037\n",
      "[LightGBM] [Warning] No further splits with positive gain, best gain: -inf\n",
      "[LightGBM] [Warning] No further splits with positive gain, best gain: -inf\n",
      "[LightGBM] [Warning] No further splits with positive gain, best gain: -inf\n",
      "[LightGBM] [Warning] No further splits with positive gain, best gain: -inf\n",
      "[LightGBM] [Warning] No further splits with positive gain, best gain: -inf\n",
      "[LightGBM] [Warning] No further splits with positive gain, best gain: -inf\n",
      "[LightGBM] [Warning] No further splits with positive gain, best gain: -inf\n",
      "[LightGBM] [Warning] No further splits with positive gain, best gain: -inf\n",
      "[LightGBM] [Warning] No further splits with positive gain, best gain: -inf\n",
      "[LightGBM] [Warning] No further splits with positive gain, best gain: -inf\n",
      "[LightGBM] [Warning] No further splits with positive gain, best gain: -inf\n",
      "[LightGBM] [Warning] No further splits with positive gain, best gain: -inf\n",
      "[LightGBM] [Warning] No further splits with positive gain, best gain: -inf\n",
      "[LightGBM] [Warning] No further splits with positive gain, best gain: -inf\n",
      "[LightGBM] [Warning] No further splits with positive gain, best gain: -inf\n",
      "[LightGBM] [Warning] No further splits with positive gain, best gain: -inf\n",
      "[LightGBM] [Warning] No further splits with positive gain, best gain: -inf\n",
      "[LightGBM] [Warning] No further splits with positive gain, best gain: -inf\n",
      "[LightGBM] [Warning] No further splits with positive gain, best gain: -inf\n",
      "[LightGBM] [Warning] No further splits with positive gain, best gain: -inf\n",
      "[LightGBM] [Warning] No further splits with positive gain, best gain: -inf\n",
      "[LightGBM] [Warning] No further splits with positive gain, best gain: -inf\n",
      "[LightGBM] [Warning] No further splits with positive gain, best gain: -inf\n",
      "[LightGBM] [Warning] No further splits with positive gain, best gain: -inf\n",
      "[LightGBM] [Warning] No further splits with positive gain, best gain: -inf\n",
      "[LightGBM] [Warning] No further splits with positive gain, best gain: -inf\n",
      "[LightGBM] [Warning] No further splits with positive gain, best gain: -inf\n",
      "[LightGBM] [Warning] No further splits with positive gain, best gain: -inf\n",
      "[LightGBM] [Warning] No further splits with positive gain, best gain: -inf\n",
      "[LightGBM] [Warning] No further splits with positive gain, best gain: -inf\n",
      "[LightGBM] [Warning] No further splits with positive gain, best gain: -inf\n",
      "[LightGBM] [Warning] No further splits with positive gain, best gain: -inf\n",
      "[LightGBM] [Warning] No further splits with positive gain, best gain: -inf\n",
      "[LightGBM] [Warning] No further splits with positive gain, best gain: -inf\n",
      "[LightGBM] [Warning] No further splits with positive gain, best gain: -inf\n",
      "[LightGBM] [Warning] No further splits with positive gain, best gain: -inf\n",
      "[LightGBM] [Warning] No further splits with positive gain, best gain: -inf\n",
      "[LightGBM] [Warning] No further splits with positive gain, best gain: -inf\n",
      "[LightGBM] [Warning] No further splits with positive gain, best gain: -inf\n",
      "[LightGBM] [Warning] No further splits with positive gain, best gain: -inf\n",
      "[LightGBM] [Warning] No further splits with positive gain, best gain: -inf\n",
      "[LightGBM] [Warning] No further splits with positive gain, best gain: -inf\n",
      "[LightGBM] [Warning] No further splits with positive gain, best gain: -inf\n",
      "[LightGBM] [Warning] No further splits with positive gain, best gain: -inf\n",
      "[LightGBM] [Warning] No further splits with positive gain, best gain: -inf\n",
      "[LightGBM] [Warning] No further splits with positive gain, best gain: -inf\n",
      "[LightGBM] [Warning] No further splits with positive gain, best gain: -inf\n",
      "[LightGBM] [Warning] No further splits with positive gain, best gain: -inf\n",
      "[LightGBM] [Warning] No further splits with positive gain, best gain: -inf\n",
      "[LightGBM] [Warning] No further splits with positive gain, best gain: -inf\n",
      "[LightGBM] [Warning] No further splits with positive gain, best gain: -inf\n",
      "[LightGBM] [Warning] No further splits with positive gain, best gain: -inf\n",
      "[LightGBM] [Warning] No further splits with positive gain, best gain: -inf\n",
      "[LightGBM] [Warning] No further splits with positive gain, best gain: -inf\n",
      "[LightGBM] [Warning] No further splits with positive gain, best gain: -inf\n",
      "[LightGBM] [Warning] No further splits with positive gain, best gain: -inf\n",
      "[LightGBM] [Warning] No further splits with positive gain, best gain: -inf\n",
      "[LightGBM] [Warning] No further splits with positive gain, best gain: -inf\n",
      "[LightGBM] [Warning] No further splits with positive gain, best gain: -inf\n",
      "[LightGBM] [Warning] No further splits with positive gain, best gain: -inf\n",
      "[LightGBM] [Warning] No further splits with positive gain, best gain: -inf\n",
      "[LightGBM] [Warning] No further splits with positive gain, best gain: -inf\n",
      "[LightGBM] [Warning] No further splits with positive gain, best gain: -inf\n",
      "[LightGBM] [Warning] No further splits with positive gain, best gain: -inf\n",
      "[LightGBM] [Warning] No further splits with positive gain, best gain: -inf\n",
      "[LightGBM] [Warning] No further splits with positive gain, best gain: -inf\n",
      "[LightGBM] [Warning] No further splits with positive gain, best gain: -inf\n",
      "[LightGBM] [Warning] No further splits with positive gain, best gain: -inf\n",
      "[LightGBM] [Warning] No further splits with positive gain, best gain: -inf\n",
      "[LightGBM] [Warning] No further splits with positive gain, best gain: -inf\n",
      "[LightGBM] [Warning] No further splits with positive gain, best gain: -inf\n",
      "[LightGBM] [Warning] No further splits with positive gain, best gain: -inf\n",
      "[LightGBM] [Warning] No further splits with positive gain, best gain: -inf\n",
      "[LightGBM] [Warning] No further splits with positive gain, best gain: -inf\n",
      "[LightGBM] [Warning] No further splits with positive gain, best gain: -inf\n",
      "[LightGBM] [Warning] No further splits with positive gain, best gain: -inf\n",
      "[LightGBM] [Warning] No further splits with positive gain, best gain: -inf\n",
      "[LightGBM] [Warning] No further splits with positive gain, best gain: -inf\n",
      "[LightGBM] [Warning] No further splits with positive gain, best gain: -inf\n",
      "[LightGBM] [Warning] No further splits with positive gain, best gain: -inf\n",
      "[LightGBM] [Warning] No further splits with positive gain, best gain: -inf\n",
      "[LightGBM] [Warning] No further splits with positive gain, best gain: -inf\n",
      "[LightGBM] [Warning] No further splits with positive gain, best gain: -inf\n",
      "[LightGBM] [Warning] No further splits with positive gain, best gain: -inf\n",
      "[LightGBM] [Warning] No further splits with positive gain, best gain: -inf\n",
      "[LightGBM] [Warning] No further splits with positive gain, best gain: -inf\n",
      "[LightGBM] [Warning] No further splits with positive gain, best gain: -inf\n",
      "[LightGBM] [Warning] No further splits with positive gain, best gain: -inf\n",
      "[LightGBM] [Warning] No further splits with positive gain, best gain: -inf\n",
      "[LightGBM] [Warning] No further splits with positive gain, best gain: -inf\n",
      "[LightGBM] [Warning] No further splits with positive gain, best gain: -inf\n",
      "[LightGBM] [Warning] No further splits with positive gain, best gain: -inf\n",
      "[LightGBM] [Warning] No further splits with positive gain, best gain: -inf\n",
      "[LightGBM] [Warning] No further splits with positive gain, best gain: -inf\n",
      "[LightGBM] [Warning] No further splits with positive gain, best gain: -inf\n",
      "[LightGBM] [Warning] No further splits with positive gain, best gain: -inf\n",
      "[LightGBM] [Warning] No further splits with positive gain, best gain: -inf\n",
      "[LightGBM] [Warning] No further splits with positive gain, best gain: -inf\n",
      "[LightGBM] [Warning] No further splits with positive gain, best gain: -inf\n",
      "[LightGBM] [Warning] No further splits with positive gain, best gain: -inf\n"
     ]
    },
    {
     "name": "stderr",
     "output_type": "stream",
     "text": [
      "\n"
     ]
    }
   ],
   "source": [
    "# Lazy Predict using regression models\n",
    "reg = LazyRegressor(verbose=0, ignore_warnings=True, custom_metric=None)\n",
    "models, predictions = reg.fit(X_train, X_test, y_train, y_test)"
   ]
  },
  {
   "cell_type": "code",
   "execution_count": 27,
   "metadata": {},
   "outputs": [
    {
     "name": "stdout",
     "output_type": "stream",
     "text": [
      "                               Adjusted R-Squared  R-Squared  RMSE  Time Taken\n",
      "Model                                                                         \n",
      "ExtraTreeRegressor                           1.00       1.00  0.00        0.01\n",
      "DecisionTreeRegressor                        1.00       1.00  0.00        0.02\n",
      "AdaBoostRegressor                            1.00       1.00  0.00        0.03\n",
      "RANSACRegressor                              1.00       1.00  0.00        0.03\n",
      "OrthogonalMatchingPursuit                    1.00       1.00  0.00        0.01\n",
      "OrthogonalMatchingPursuitCV                  1.00       1.00  0.00        0.01\n",
      "LinearRegression                             1.00       1.00  0.00        0.01\n",
      "TransformedTargetRegressor                   1.00       1.00  0.00        0.03\n",
      "LassoLarsIC                                  1.00       1.00  0.00        0.01\n",
      "Lars                                         1.00       1.00  0.00        0.01\n",
      "LassoLarsCV                                  1.00       1.00  0.00        0.02\n",
      "LarsCV                                       1.00       1.00  0.00        0.02\n",
      "BayesianRidge                                1.00       1.00  0.00        0.03\n",
      "HuberRegressor                               1.00       1.00  0.00        0.04\n",
      "LinearSVR                                    1.00       1.00  0.00        0.01\n",
      "LGBMRegressor                                1.00       1.00  0.00        0.06\n",
      "HistGradientBoostingRegressor                1.00       1.00  0.00        0.10\n",
      "GradientBoostingRegressor                    1.00       1.00  0.00        0.08\n",
      "XGBRegressor                                 1.00       1.00  0.00        0.09\n",
      "LassoCV                                      1.00       1.00  0.00        0.06\n",
      "RidgeCV                                      1.00       1.00  0.00        0.03\n",
      "ExtraTreesRegressor                          1.00       1.00  0.00        0.11\n",
      "ElasticNetCV                                 1.00       1.00  0.01        0.06\n",
      "RandomForestRegressor                        1.00       1.00  0.02        0.36\n",
      "Ridge                                        1.00       1.00  0.02        0.03\n",
      "BaggingRegressor                             1.00       1.00  0.03        0.03\n",
      "PassiveAggressiveRegressor                   1.00       1.00  0.04        0.01\n",
      "SGDRegressor                                 0.99       0.99  0.13        0.02\n",
      "NuSVR                                        0.98       0.99  0.22        0.04\n",
      "SVR                                          0.98       0.98  0.23        0.03\n",
      "PoissonRegressor                             0.97       0.98  0.26        0.02\n",
      "KNeighborsRegressor                          0.95       0.96  0.37        0.01\n",
      "MLPRegressor                                 0.92       0.94  0.44        0.38\n",
      "TweedieRegressor                             0.87       0.90  0.57        0.05\n",
      "GammaRegressor                               0.87       0.90  0.57        0.01\n",
      "ElasticNet                                   0.74       0.79  0.82        0.01\n",
      "Lasso                                        0.59       0.67  1.02        0.01\n",
      "LassoLars                                    0.59       0.67  1.02        0.01\n",
      "GaussianProcessRegressor                    -0.15       0.05  1.72        0.02\n",
      "DummyRegressor                              -0.27      -0.04  1.81        0.01\n",
      "QuantileRegressor                           -0.39      -0.15  1.89        0.36\n",
      "KernelRidge                                 -9.95      -8.03  5.31        0.01\n"
     ]
    }
   ],
   "source": [
    "# Display model performance metrics\n",
    "print(models.sort_values(by=['RMSE', 'Time Taken']))"
   ]
  },
  {
   "cell_type": "code",
   "execution_count": 28,
   "metadata": {},
   "outputs": [
    {
     "data": {
      "text/html": [
       "<style>#sk-container-id-1 {color: black;background-color: white;}#sk-container-id-1 pre{padding: 0;}#sk-container-id-1 div.sk-toggleable {background-color: white;}#sk-container-id-1 label.sk-toggleable__label {cursor: pointer;display: block;width: 100%;margin-bottom: 0;padding: 0.3em;box-sizing: border-box;text-align: center;}#sk-container-id-1 label.sk-toggleable__label-arrow:before {content: \"▸\";float: left;margin-right: 0.25em;color: #696969;}#sk-container-id-1 label.sk-toggleable__label-arrow:hover:before {color: black;}#sk-container-id-1 div.sk-estimator:hover label.sk-toggleable__label-arrow:before {color: black;}#sk-container-id-1 div.sk-toggleable__content {max-height: 0;max-width: 0;overflow: hidden;text-align: left;background-color: #f0f8ff;}#sk-container-id-1 div.sk-toggleable__content pre {margin: 0.2em;color: black;border-radius: 0.25em;background-color: #f0f8ff;}#sk-container-id-1 input.sk-toggleable__control:checked~div.sk-toggleable__content {max-height: 200px;max-width: 100%;overflow: auto;}#sk-container-id-1 input.sk-toggleable__control:checked~label.sk-toggleable__label-arrow:before {content: \"▾\";}#sk-container-id-1 div.sk-estimator input.sk-toggleable__control:checked~label.sk-toggleable__label {background-color: #d4ebff;}#sk-container-id-1 div.sk-label input.sk-toggleable__control:checked~label.sk-toggleable__label {background-color: #d4ebff;}#sk-container-id-1 input.sk-hidden--visually {border: 0;clip: rect(1px 1px 1px 1px);clip: rect(1px, 1px, 1px, 1px);height: 1px;margin: -1px;overflow: hidden;padding: 0;position: absolute;width: 1px;}#sk-container-id-1 div.sk-estimator {font-family: monospace;background-color: #f0f8ff;border: 1px dotted black;border-radius: 0.25em;box-sizing: border-box;margin-bottom: 0.5em;}#sk-container-id-1 div.sk-estimator:hover {background-color: #d4ebff;}#sk-container-id-1 div.sk-parallel-item::after {content: \"\";width: 100%;border-bottom: 1px solid gray;flex-grow: 1;}#sk-container-id-1 div.sk-label:hover label.sk-toggleable__label {background-color: #d4ebff;}#sk-container-id-1 div.sk-serial::before {content: \"\";position: absolute;border-left: 1px solid gray;box-sizing: border-box;top: 0;bottom: 0;left: 50%;z-index: 0;}#sk-container-id-1 div.sk-serial {display: flex;flex-direction: column;align-items: center;background-color: white;padding-right: 0.2em;padding-left: 0.2em;position: relative;}#sk-container-id-1 div.sk-item {position: relative;z-index: 1;}#sk-container-id-1 div.sk-parallel {display: flex;align-items: stretch;justify-content: center;background-color: white;position: relative;}#sk-container-id-1 div.sk-item::before, #sk-container-id-1 div.sk-parallel-item::before {content: \"\";position: absolute;border-left: 1px solid gray;box-sizing: border-box;top: 0;bottom: 0;left: 50%;z-index: -1;}#sk-container-id-1 div.sk-parallel-item {display: flex;flex-direction: column;z-index: 1;position: relative;background-color: white;}#sk-container-id-1 div.sk-parallel-item:first-child::after {align-self: flex-end;width: 50%;}#sk-container-id-1 div.sk-parallel-item:last-child::after {align-self: flex-start;width: 50%;}#sk-container-id-1 div.sk-parallel-item:only-child::after {width: 0;}#sk-container-id-1 div.sk-dashed-wrapped {border: 1px dashed gray;margin: 0 0.4em 0.5em 0.4em;box-sizing: border-box;padding-bottom: 0.4em;background-color: white;}#sk-container-id-1 div.sk-label label {font-family: monospace;font-weight: bold;display: inline-block;line-height: 1.2em;}#sk-container-id-1 div.sk-label-container {text-align: center;}#sk-container-id-1 div.sk-container {/* jupyter's `normalize.less` sets `[hidden] { display: none; }` but bootstrap.min.css set `[hidden] { display: none !important; }` so we also need the `!important` here to be able to override the default hidden behavior on the sphinx rendered scikit-learn.org. See: https://github.com/scikit-learn/scikit-learn/issues/21755 */display: inline-block !important;position: relative;}#sk-container-id-1 div.sk-text-repr-fallback {display: none;}</style><div id=\"sk-container-id-1\" class=\"sk-top-container\"><div class=\"sk-text-repr-fallback\"><pre>LinearRegression()</pre><b>In a Jupyter environment, please rerun this cell to show the HTML representation or trust the notebook. <br />On GitHub, the HTML representation is unable to render, please try loading this page with nbviewer.org.</b></div><div class=\"sk-container\" hidden><div class=\"sk-item\"><div class=\"sk-estimator sk-toggleable\"><input class=\"sk-toggleable__control sk-hidden--visually\" id=\"sk-estimator-id-1\" type=\"checkbox\" checked><label for=\"sk-estimator-id-1\" class=\"sk-toggleable__label sk-toggleable__label-arrow\">LinearRegression</label><div class=\"sk-toggleable__content\"><pre>LinearRegression()</pre></div></div></div></div></div>"
      ],
      "text/plain": [
       "LinearRegression()"
      ]
     },
     "execution_count": 28,
     "metadata": {},
     "output_type": "execute_result"
    }
   ],
   "source": [
    "# Train a Linear Regression model\n",
    "lr = LinearRegression()\n",
    "lr.fit(X_train, y_train)"
   ]
  },
  {
   "cell_type": "code",
   "execution_count": 29,
   "metadata": {},
   "outputs": [
    {
     "name": "stdout",
     "output_type": "stream",
     "text": [
      "Predictions: \n",
      " [[3.]\n",
      " [8.]\n",
      " [8.]\n",
      " [3.]\n",
      " [8.]\n",
      " [7.]\n",
      " [8.]\n",
      " [4.]\n",
      " [3.]\n",
      " [5.]\n",
      " [7.]\n",
      " [6.]\n",
      " [5.]\n",
      " [8.]\n",
      " [5.]\n",
      " [8.]\n",
      " [6.]\n",
      " [7.]\n",
      " [3.]\n",
      " [4.]\n",
      " [6.]\n",
      " [5.]\n",
      " [8.]\n",
      " [4.]\n",
      " [4.]\n",
      " [5.]\n",
      " [7.]\n",
      " [7.]\n",
      " [7.]\n",
      " [3.]\n",
      " [6.]\n",
      " [4.]\n",
      " [6.]\n",
      " [3.]\n",
      " [8.]\n",
      " [4.]\n",
      " [8.]\n",
      " [6.]\n",
      " [5.]\n",
      " [5.]\n",
      " [7.]\n",
      " [8.]\n",
      " [7.]\n",
      " [7.]\n",
      " [5.]\n",
      " [4.]\n",
      " [4.]\n",
      " [6.]\n",
      " [8.]\n",
      " [6.]\n",
      " [3.]\n",
      " [5.]\n",
      " [8.]\n",
      " [5.]\n",
      " [6.]\n",
      " [3.]\n",
      " [5.]\n",
      " [8.]\n",
      " [3.]\n",
      " [8.]\n",
      " [5.]\n",
      " [7.]\n",
      " [8.]\n",
      " [6.]\n",
      " [4.]\n",
      " [8.]\n",
      " [7.]\n",
      " [3.]\n",
      " [5.]\n",
      " [5.]\n",
      " [4.]\n",
      " [7.]\n",
      " [3.]\n",
      " [8.]\n",
      " [3.]]\n"
     ]
    }
   ],
   "source": [
    "# Make predictions using the Linear Regression model\n",
    "y_pred = lr.predict(X_test)\n",
    "print (\"Predictions: \\n\", y_pred)\n",
    "\n",
    "\n"
   ]
  },
  {
   "cell_type": "code",
   "execution_count": 30,
   "metadata": {},
   "outputs": [
    {
     "name": "stdout",
     "output_type": "stream",
     "text": [
      "\n",
      "MAPE: 0.00\n",
      "RMSE: 0.00\n",
      "R2: 1.00\n",
      "\n"
     ]
    }
   ],
   "source": [
    "# Evaluate the Linear Regression model\n",
    "mape = mean_absolute_percentage_error(y_test, y_pred)\n",
    "rmse = np.sqrt(mean_squared_error(y_test, y_pred))\n",
    "r2 = r2_score(y_test, y_pred)\n",
    "\n",
    "print(f\"\"\"\n",
    "MAPE: {mape:.2f}\n",
    "RMSE: {rmse:.2f}\n",
    "R2: {r2:.2f}\n",
    "\"\"\")"
   ]
  },
  {
   "cell_type": "code",
   "execution_count": 31,
   "metadata": {},
   "outputs": [],
   "source": [
    "# Save the trained Linear Regression model\n",
    "pickle.dump(lr, open('c:\\\\Users\\\\Gabrellea\\\\OneDrive\\\\Documents\\\\UNC Chapel Hill\\\\Project 4\\\\model.pkl', 'wb'))\n",
    "df.to_csv('c:\\\\Users\\\\Gabrellea\\\\OneDrive\\\\Documents\\\\UNC Chapel Hill\\\\Project 4\\\\Sleep_health_and_lifestyle_dataset_cleaned.csv', index=False)\n"
   ]
  }
 ],
 "metadata": {
  "kernelspec": {
   "display_name": "dev",
   "language": "python",
   "name": "python3"
  },
  "language_info": {
   "codemirror_mode": {
    "name": "ipython",
    "version": 3
   },
   "file_extension": ".py",
   "mimetype": "text/x-python",
   "name": "python",
   "nbconvert_exporter": "python",
   "pygments_lexer": "ipython3",
   "version": "3.10.12"
  }
 },
 "nbformat": 4,
 "nbformat_minor": 2
}
