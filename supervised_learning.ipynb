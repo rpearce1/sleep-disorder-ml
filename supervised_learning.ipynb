{
 "cells": [
  {
   "cell_type": "code",
   "execution_count": 19,
   "metadata": {},
   "outputs": [],
   "source": [
    "# Import required libraries and dependencies\n",
    "import pandas as pd\n",
    "from sklearn import tree\n",
    "from sklearn.preprocessing import StandardScaler\n",
    "from sklearn.ensemble import RandomForestClassifier\n",
    "from sklearn.model_selection import train_test_split\n",
    "from sklearn.metrics import confusion_matrix, accuracy_score, classification_report\n",
    "import pydotplus\n",
    "from IPython.display import Image\n",
    "from sklearn.neighbors import KNeighborsClassifier"
   ]
  },
  {
   "cell_type": "code",
   "execution_count": 2,
   "metadata": {},
   "outputs": [],
   "source": [
    "sleep_df = pd.read_csv('Sleep_health_and_lifestyle_dataset.csv')\n",
    "sleep_df.fillna('None',inplace=True)"
   ]
  },
  {
   "cell_type": "code",
   "execution_count": 3,
   "metadata": {},
   "outputs": [],
   "source": [
    "sleep_df['BMI Category'] = [category if category != 'Normal Weight' else 'Normal' for category in sleep_df['BMI Category']]\n",
    "sleep_df['Systolic Pressure'] = [int(string[:3]) for string in sleep_df['Blood Pressure']]\n",
    "sleep_df['Diastolic Pressure'] = [int(string[-2:]) for string in sleep_df['Blood Pressure']]\n",
    "disorder = sleep_df['Sleep Disorder']\n",
    "sleep_df.drop(columns=['Blood Pressure','Sleep Disorder','Occupation','Person ID'],inplace=True)"
   ]
  },
  {
   "cell_type": "code",
   "execution_count": 4,
   "metadata": {},
   "outputs": [],
   "source": [
    "y = disorder.values\n",
    "X = pd.get_dummies(sleep_df)\n",
    "# Splitting into Train and Test sets\n",
    "X_train, X_test, y_train, y_test = train_test_split(X, y)"
   ]
  },
  {
   "cell_type": "code",
   "execution_count": 5,
   "metadata": {},
   "outputs": [],
   "source": [
    "X_train_scaled = StandardScaler().fit_transform(X_train)\n",
    "X_test_scaled = StandardScaler().fit_transform(X_test)"
   ]
  },
  {
   "cell_type": "code",
   "execution_count": 6,
   "metadata": {},
   "outputs": [],
   "source": [
    "# Creating the decision tree classifier instance\n",
    "model = tree.DecisionTreeClassifier()\n",
    "\n",
    "# Fitting the model\n",
    "model = model.fit(X_train_scaled, y_train)\n",
    "\n",
    "# Making predictions using the testing data\n",
    "predictions = model.predict(X_test_scaled)"
   ]
  },
  {
   "cell_type": "code",
   "execution_count": 7,
   "metadata": {},
   "outputs": [
    {
     "data": {
      "text/plain": [
       "None           52\n",
       "Sleep Apnea    24\n",
       "Insomnia       18\n",
       "Name: count, dtype: int64"
      ]
     },
     "execution_count": 7,
     "metadata": {},
     "output_type": "execute_result"
    }
   ],
   "source": [
    "predictions\n",
    "pd.DataFrame(y_test).value_counts()"
   ]
  },
  {
   "cell_type": "code",
   "execution_count": 8,
   "metadata": {},
   "outputs": [
    {
     "data": {
      "text/plain": [
       "array([[16,  1,  1],\n",
       "       [ 6, 45,  1],\n",
       "       [ 3,  7, 14]])"
      ]
     },
     "execution_count": 8,
     "metadata": {},
     "output_type": "execute_result"
    }
   ],
   "source": [
    "cm = confusion_matrix(y_test, predictions)\n",
    "cm"
   ]
  },
  {
   "cell_type": "code",
   "execution_count": 15,
   "metadata": {},
   "outputs": [],
   "source": [
    "# Create a random forest classifier\n",
    "rf_model = RandomForestClassifier(n_estimators=1000)\n",
    "\n",
    "# Fitting the model\n",
    "rf_model = rf_model.fit(X_train_scaled, y_train)\n",
    "\n",
    "# Making predictions using the testing data\n",
    "predictions = rf_model.predict(X_test_scaled)"
   ]
  },
  {
   "cell_type": "code",
   "execution_count": 30,
   "metadata": {},
   "outputs": [
    {
     "data": {
      "text/plain": [
       "array([[16,  1,  1],\n",
       "       [ 0, 51,  1],\n",
       "       [ 3,  2, 19]])"
      ]
     },
     "execution_count": 30,
     "metadata": {},
     "output_type": "execute_result"
    }
   ],
   "source": [
    "confusion_matrix(y_test, predictions)\n"
   ]
  },
  {
   "cell_type": "code",
   "execution_count": 17,
   "metadata": {},
   "outputs": [
    {
     "data": {
      "text/plain": [
       "[(0.14944740275754057, 'Diastolic Pressure'),\n",
       " (0.14204171426054504, 'BMI Category_Normal'),\n",
       " (0.1375580909257498, 'Systolic Pressure'),\n",
       " (0.10827749695330986, 'Sleep Duration'),\n",
       " (0.10230008623290848, 'Age'),\n",
       " (0.09287382587162991, 'BMI Category_Overweight'),\n",
       " (0.06432790927534757, 'Daily Steps'),\n",
       " (0.05857596593533887, 'Heart Rate'),\n",
       " (0.0575637499154994, 'Physical Activity Level'),\n",
       " (0.03636127627634627, 'Stress Level'),\n",
       " (0.032845493155802395, 'Quality of Sleep'),\n",
       " (0.0076958029292239355, 'Gender_Male'),\n",
       " (0.007059759350583153, 'Gender_Female'),\n",
       " (0.0030714261601748204, 'BMI Category_Obese')]"
      ]
     },
     "execution_count": 17,
     "metadata": {},
     "output_type": "execute_result"
    }
   ],
   "source": [
    "# Random Forests in sklearn will automatically calculate feature importance\n",
    "importances = rf_model.feature_importances_\n",
    "# We can sort the features by their importance\n",
    "sorted(zip(rf_model.feature_importances_, X.columns), reverse=True)"
   ]
  },
  {
   "cell_type": "code",
   "execution_count": 36,
   "metadata": {},
   "outputs": [
    {
     "data": {
      "text/plain": [
       "array(['Sleep Apnea', 'Sleep Apnea', 'None', 'Sleep Apnea', 'Sleep Apnea',\n",
       "       'None', 'None', 'Sleep Apnea', 'None', 'Insomnia', 'None',\n",
       "       'Sleep Apnea', 'Sleep Apnea', 'None', 'None', 'Insomnia', 'None',\n",
       "       'Sleep Apnea', 'None', 'Sleep Apnea', 'None', 'None', 'None',\n",
       "       'Insomnia', 'None', 'Insomnia', 'None', 'None', 'None', 'None',\n",
       "       'None', 'None', 'None', 'None', 'None', 'None', 'None', 'None',\n",
       "       'Sleep Apnea', 'Insomnia', 'None', 'None', 'Insomnia', 'None',\n",
       "       'None', 'None', 'None', 'Insomnia', 'None', 'Insomnia', 'None',\n",
       "       'None', 'None', 'Insomnia', 'None', 'Sleep Apnea', 'None',\n",
       "       'Insomnia', 'Sleep Apnea', 'None', 'Sleep Apnea', 'Sleep Apnea',\n",
       "       'None', 'None', 'None', 'None', 'None', 'Sleep Apnea', 'None',\n",
       "       'None', 'Insomnia', 'Insomnia', 'None', 'None', 'None', 'Insomnia',\n",
       "       'Insomnia', 'Sleep Apnea', 'Insomnia', 'None', 'None', 'None',\n",
       "       'Insomnia', 'None', 'Insomnia', 'Insomnia', 'None', 'None',\n",
       "       'Sleep Apnea', 'None', 'Insomnia', 'Insomnia', 'Sleep Apnea',\n",
       "       'Sleep Apnea'], dtype=object)"
      ]
     },
     "execution_count": 36,
     "metadata": {},
     "output_type": "execute_result"
    }
   ],
   "source": [
    "# Instantiate the model with k = 3 neighbors\n",
    "model = KNeighborsClassifier(n_neighbors=3)\n",
    "\n",
    "# Train the model\n",
    "model.fit(X_train_scaled, y_train)\n",
    "\n",
    "# Create predictions\n",
    "y_pred = model.predict(X_test_scaled)\n",
    "\n",
    "# Review the predictions\n",
    "y_pred"
   ]
  },
  {
   "cell_type": "code",
   "execution_count": 37,
   "metadata": {},
   "outputs": [
    {
     "data": {
      "text/plain": [
       "array([[17,  1,  0],\n",
       "       [ 0, 51,  1],\n",
       "       [ 3,  3, 18]])"
      ]
     },
     "execution_count": 37,
     "metadata": {},
     "output_type": "execute_result"
    }
   ],
   "source": [
    "confusion_matrix(y_test,y_pred)"
   ]
  },
  {
   "cell_type": "code",
   "execution_count": null,
   "metadata": {},
   "outputs": [],
   "source": []
  }
 ],
 "metadata": {
  "kernelspec": {
   "display_name": "dev",
   "language": "python",
   "name": "python3"
  },
  "language_info": {
   "codemirror_mode": {
    "name": "ipython",
    "version": 3
   },
   "file_extension": ".py",
   "mimetype": "text/x-python",
   "name": "python",
   "nbconvert_exporter": "python",
   "pygments_lexer": "ipython3",
   "version": "3.10.13"
  }
 },
 "nbformat": 4,
 "nbformat_minor": 2
}
