{
 "cells": [
  {
   "cell_type": "code",
   "execution_count": 1,
   "metadata": {},
   "outputs": [],
   "source": [
    "# Import required libraries and dependencies\n",
    "import pandas as pd\n",
    "from sklearn import tree\n",
    "from sklearn.preprocessing import StandardScaler\n",
    "from sklearn.ensemble import RandomForestClassifier\n",
    "from sklearn.model_selection import train_test_split\n",
    "from sklearn.metrics import confusion_matrix, accuracy_score, classification_report\n",
    "import pydotplus\n",
    "from IPython.display import Image\n",
    "from sklearn.neighbors import KNeighborsClassifier\n",
    "import numpy as np\n",
    "import matplotlib.pyplot as plt"
   ]
  },
  {
   "cell_type": "code",
   "execution_count": 3,
   "metadata": {},
   "outputs": [],
   "source": [
    "sleep_df = pd.read_csv('Sleep_health_and_lifestyle_dataset.csv')\n",
    "sleep_df.fillna('None',inplace=True)"
   ]
  },
  {
   "cell_type": "code",
   "execution_count": 4,
   "metadata": {},
   "outputs": [],
   "source": [
    "#clean data\n",
    "sleep_df['BMI Category'] = [category if category != 'Normal Weight' else 'Normal' for category in sleep_df['BMI Category']]\n",
    "sleep_df['Systolic Pressure'] = [int(string[:3]) for string in sleep_df['Blood Pressure']]\n",
    "sleep_df['Diastolic Pressure'] = [int(string[-2:]) for string in sleep_df['Blood Pressure']]\n",
    "disorder = sleep_df['Sleep Disorder']\n",
    "sleep_df.drop(columns=['Blood Pressure','Sleep Disorder','Occupation','Person ID'],inplace=True)"
   ]
  },
  {
   "cell_type": "code",
   "execution_count": 474,
   "metadata": {},
   "outputs": [],
   "source": [
    "y = disorder.values\n",
    "X = pd.get_dummies(sleep_df)\n",
    "\n",
    "# Splitting into Train and Test sets\n",
    "X_train, X_test, y_train, y_test = train_test_split(X, y,random_state=2)"
   ]
  },
  {
   "cell_type": "code",
   "execution_count": 172,
   "metadata": {},
   "outputs": [
    {
     "data": {
      "text/plain": [
       "None           219\n",
       "Sleep Apnea     78\n",
       "Insomnia        77\n",
       "Name: count, dtype: int64"
      ]
     },
     "execution_count": 172,
     "metadata": {},
     "output_type": "execute_result"
    }
   ],
   "source": [
    "pd.DataFrame(y).value_counts()"
   ]
  },
  {
   "cell_type": "code",
   "execution_count": 179,
   "metadata": {},
   "outputs": [],
   "source": [
    "# Initial model creation\n",
    "accuracy0 = list()\n",
    "insomnia_recall0 = list()\n",
    "none_recall0 = list()\n",
    "sleep_apnea_recall0 = list()\n",
    "insomnia_precision0 = list()\n",
    "none_precision0 = list()\n",
    "sleep_apnea_precision0 = list()\n",
    "#confusion matricies\n",
    "cms0 = list()\n",
    "feature_importances0 = list()\n",
    "feature_ratings0 = list()\n",
    "\n",
    "for i in range(10):\n",
    "    y = disorder.values\n",
    "    X = pd.get_dummies(sleep_df)\n",
    "    X_train, X_test, y_train, y_test = train_test_split(X, y,random_state=i)\n",
    "\n",
    "    # Creating the decision tree classifier instance\n",
    "    model = tree.DecisionTreeClassifier()\n",
    "    # Fitting the model\n",
    "    model = model.fit(X_train, y_train)\n",
    "\n",
    "    # Making predictions using the testing data\n",
    "    predictions = model.predict(X_test)\n",
    "\n",
    "    # Create DOT data\n",
    "    dot_data = tree.export_graphviz(\n",
    "        model, out_file=None, feature_names=X.columns, class_names=[\"Insomnia\", \"None\",\"Sleep Apnea\"], filled=True)\n",
    "    # Draw graph\n",
    "    graph = pydotplus.graph_from_dot_data(dot_data)\n",
    "    # Write png\n",
    "    graph.write_png(f'initial_decision_tree{i}.png')\n",
    "    \n",
    "    #Determine most important features for each model\n",
    "    feature_list = []\n",
    "    sorted_features = model.feature_importances_\n",
    "    sorted_features.sort()\n",
    "    for j in range(5):\n",
    "        feature_list.append(model.feature_names_in_[np.where(model.feature_importances_ == sorted_features[-1-j])[0][0]])\n",
    "    feature_importances0.append(feature_list)\n",
    "    feature_ratings0.append(np.flip(sorted_features[-5:]))\n",
    "    \n",
    "    #create lists for data evaluation\n",
    "    cms0.append(confusion_matrix(y_test, predictions))\n",
    "    report = classification_report(y_test,predictions,output_dict=True)\n",
    "    accuracy0.append(report['accuracy'])\n",
    "    insomnia_recall0.append(report['Insomnia']['recall'])\n",
    "    none_recall0.append(report['None']['recall'])\n",
    "    sleep_apnea_recall0.append(report['Sleep Apnea']['recall'])\n",
    "    insomnia_precision0.append(report['Insomnia']['precision'])\n",
    "    none_precision0.append(report['None']['precision'])\n",
    "    sleep_apnea_precision0.append(report['Sleep Apnea']['precision'])\n",
    "\n",
    "\n"
   ]
  },
  {
   "cell_type": "code",
   "execution_count": 166,
   "metadata": {},
   "outputs": [],
   "source": [
    "# Final model creation\n",
    "accuracy = list()\n",
    "insomnia_recall = list()\n",
    "none_recall = list()\n",
    "sleep_apnea_recall = list()\n",
    "insomnia_precision = list()\n",
    "none_precision = list()\n",
    "sleep_apnea_precision = list()\n",
    "#confusion matricies\n",
    "cms = list()\n",
    "feature_importances = list()\n",
    "feature_ratings = list()\n",
    "\n",
    "for i in range(10):\n",
    "    y = disorder.values\n",
    "    X = pd.get_dummies(sleep_df)\n",
    "    X_train, X_test, y_train, y_test = train_test_split(X, y,random_state=i)\n",
    "\n",
    "    # Creating the decision tree classifier instance\n",
    "    model = tree.DecisionTreeClassifier(min_impurity_decrease=0.01)\n",
    "    # Fitting the model\n",
    "    model = model.fit(X_train, y_train)\n",
    "\n",
    "    # Making predictions using the testing data\n",
    "    predictions = model.predict(X_test)\n",
    "\n",
    "    # Create DOT data\n",
    "    dot_data = tree.export_graphviz(\n",
    "        model, out_file=None, feature_names=X.columns, class_names=[\"Insomnia\", \"None\",\"Sleep Apnea\"], filled=True)\n",
    "    # Draw graph\n",
    "    graph = pydotplus.graph_from_dot_data(dot_data)\n",
    "    # Write png\n",
    "    graph.write_png(f'decision_tree{i}.png')\n",
    "    \n",
    "    #Determine most important features for each model\n",
    "    feature_list = []\n",
    "    sorted_features = model.feature_importances_\n",
    "    sorted_features.sort()\n",
    "    for j in range(5):\n",
    "        feature_list.append(model.feature_names_in_[np.where(model.feature_importances_ == sorted_features[-1-j])[0][0]])\n",
    "    feature_importances.append(feature_list)\n",
    "    feature_ratings.append(np.flip(sorted_features[-5:]))\n",
    "    \n",
    "    #create lists for data evaluation\n",
    "    cms.append(confusion_matrix(y_test, predictions))\n",
    "    report = classification_report(y_test,predictions,output_dict=True)\n",
    "    accuracy.append(report['accuracy'])\n",
    "    insomnia_recall.append(report['Insomnia']['recall'])\n",
    "    none_recall.append(report['None']['recall'])\n",
    "    sleep_apnea_recall.append(report['Sleep Apnea']['recall'])\n",
    "    insomnia_precision.append(report['Insomnia']['precision'])\n",
    "    none_precision.append(report['None']['precision'])\n",
    "    sleep_apnea_precision.append(report['Sleep Apnea']['precision'])\n",
    "\n",
    "\n",
    "\n"
   ]
  },
  {
   "cell_type": "code",
   "execution_count": 168,
   "metadata": {},
   "outputs": [
    {
     "data": {
      "text/html": [
       "<div>\n",
       "<style scoped>\n",
       "    .dataframe tbody tr th:only-of-type {\n",
       "        vertical-align: middle;\n",
       "    }\n",
       "\n",
       "    .dataframe tbody tr th {\n",
       "        vertical-align: top;\n",
       "    }\n",
       "\n",
       "    .dataframe thead th {\n",
       "        text-align: right;\n",
       "    }\n",
       "</style>\n",
       "<table border=\"1\" class=\"dataframe\">\n",
       "  <thead>\n",
       "    <tr style=\"text-align: right;\">\n",
       "      <th></th>\n",
       "      <th>0</th>\n",
       "      <th>1</th>\n",
       "      <th>2</th>\n",
       "      <th>3</th>\n",
       "      <th>4</th>\n",
       "    </tr>\n",
       "  </thead>\n",
       "  <tbody>\n",
       "    <tr>\n",
       "      <th>0</th>\n",
       "      <td>BMI Category_Normal</td>\n",
       "      <td>Systolic Pressure</td>\n",
       "      <td>Age</td>\n",
       "      <td>Heart Rate</td>\n",
       "      <td>Sleep Duration</td>\n",
       "    </tr>\n",
       "    <tr>\n",
       "      <th>1</th>\n",
       "      <td>BMI Category_Normal</td>\n",
       "      <td>Physical Activity Level</td>\n",
       "      <td>Systolic Pressure</td>\n",
       "      <td>Age</td>\n",
       "      <td>Daily Steps</td>\n",
       "    </tr>\n",
       "    <tr>\n",
       "      <th>2</th>\n",
       "      <td>BMI Category_Normal</td>\n",
       "      <td>Physical Activity Level</td>\n",
       "      <td>Systolic Pressure</td>\n",
       "      <td>Age</td>\n",
       "      <td>Heart Rate</td>\n",
       "    </tr>\n",
       "    <tr>\n",
       "      <th>3</th>\n",
       "      <td>BMI Category_Normal</td>\n",
       "      <td>Physical Activity Level</td>\n",
       "      <td>Age</td>\n",
       "      <td>Systolic Pressure</td>\n",
       "      <td>Sleep Duration</td>\n",
       "    </tr>\n",
       "    <tr>\n",
       "      <th>4</th>\n",
       "      <td>BMI Category_Normal</td>\n",
       "      <td>Physical Activity Level</td>\n",
       "      <td>Age</td>\n",
       "      <td>Heart Rate</td>\n",
       "      <td>Systolic Pressure</td>\n",
       "    </tr>\n",
       "    <tr>\n",
       "      <th>5</th>\n",
       "      <td>BMI Category_Normal</td>\n",
       "      <td>Physical Activity Level</td>\n",
       "      <td>Age</td>\n",
       "      <td>Systolic Pressure</td>\n",
       "      <td>Daily Steps</td>\n",
       "    </tr>\n",
       "    <tr>\n",
       "      <th>6</th>\n",
       "      <td>BMI Category_Normal</td>\n",
       "      <td>Physical Activity Level</td>\n",
       "      <td>Systolic Pressure</td>\n",
       "      <td>Age</td>\n",
       "      <td>Diastolic Pressure</td>\n",
       "    </tr>\n",
       "    <tr>\n",
       "      <th>7</th>\n",
       "      <td>BMI Category_Normal</td>\n",
       "      <td>Physical Activity Level</td>\n",
       "      <td>Systolic Pressure</td>\n",
       "      <td>Daily Steps</td>\n",
       "      <td>Age</td>\n",
       "    </tr>\n",
       "    <tr>\n",
       "      <th>8</th>\n",
       "      <td>BMI Category_Normal</td>\n",
       "      <td>Physical Activity Level</td>\n",
       "      <td>Systolic Pressure</td>\n",
       "      <td>Age</td>\n",
       "      <td>Heart Rate</td>\n",
       "    </tr>\n",
       "    <tr>\n",
       "      <th>9</th>\n",
       "      <td>BMI Category_Normal</td>\n",
       "      <td>Physical Activity Level</td>\n",
       "      <td>Systolic Pressure</td>\n",
       "      <td>Age</td>\n",
       "      <td>Heart Rate</td>\n",
       "    </tr>\n",
       "  </tbody>\n",
       "</table>\n",
       "</div>"
      ],
      "text/plain": [
       "                     0                        1                  2  \\\n",
       "0  BMI Category_Normal        Systolic Pressure                Age   \n",
       "1  BMI Category_Normal  Physical Activity Level  Systolic Pressure   \n",
       "2  BMI Category_Normal  Physical Activity Level  Systolic Pressure   \n",
       "3  BMI Category_Normal  Physical Activity Level                Age   \n",
       "4  BMI Category_Normal  Physical Activity Level                Age   \n",
       "5  BMI Category_Normal  Physical Activity Level                Age   \n",
       "6  BMI Category_Normal  Physical Activity Level  Systolic Pressure   \n",
       "7  BMI Category_Normal  Physical Activity Level  Systolic Pressure   \n",
       "8  BMI Category_Normal  Physical Activity Level  Systolic Pressure   \n",
       "9  BMI Category_Normal  Physical Activity Level  Systolic Pressure   \n",
       "\n",
       "                   3                   4  \n",
       "0         Heart Rate      Sleep Duration  \n",
       "1                Age         Daily Steps  \n",
       "2                Age          Heart Rate  \n",
       "3  Systolic Pressure      Sleep Duration  \n",
       "4         Heart Rate   Systolic Pressure  \n",
       "5  Systolic Pressure         Daily Steps  \n",
       "6                Age  Diastolic Pressure  \n",
       "7        Daily Steps                 Age  \n",
       "8                Age          Heart Rate  \n",
       "9                Age          Heart Rate  "
      ]
     },
     "execution_count": 168,
     "metadata": {},
     "output_type": "execute_result"
    }
   ],
   "source": [
    "# feature importance for all models\n",
    "#1,2,6,8,9 are approximately the same\n",
    "pd.DataFrame(feature_importances)\n"
   ]
  },
  {
   "cell_type": "code",
   "execution_count": 191,
   "metadata": {},
   "outputs": [],
   "source": [
    "# final classification reports for all models\n",
    "initial_report_df = pd.DataFrame({'accuracy':accuracy0, 'insomnia_recall':insomnia_recall0,'none_recall':none_recall0,'sleep_apnea_recall':sleep_apnea_recall0,'insomnia_precision':insomnia_precision0,'none_precision':none_precision0,'sleep_apnea_precision':sleep_apnea_precision0})"
   ]
  },
  {
   "cell_type": "code",
   "execution_count": 186,
   "metadata": {},
   "outputs": [
    {
     "data": {
      "text/html": [
       "<div>\n",
       "<style scoped>\n",
       "    .dataframe tbody tr th:only-of-type {\n",
       "        vertical-align: middle;\n",
       "    }\n",
       "\n",
       "    .dataframe tbody tr th {\n",
       "        vertical-align: top;\n",
       "    }\n",
       "\n",
       "    .dataframe thead th {\n",
       "        text-align: right;\n",
       "    }\n",
       "</style>\n",
       "<table border=\"1\" class=\"dataframe\">\n",
       "  <thead>\n",
       "    <tr style=\"text-align: right;\">\n",
       "      <th></th>\n",
       "      <th>accuracy</th>\n",
       "      <th>insomnia_recall</th>\n",
       "      <th>none_recall</th>\n",
       "      <th>sleep_apnea_recall</th>\n",
       "      <th>insomnia_precision</th>\n",
       "      <th>none_precision</th>\n",
       "      <th>sleep_apnea_precision</th>\n",
       "    </tr>\n",
       "  </thead>\n",
       "  <tbody>\n",
       "    <tr>\n",
       "      <th>0</th>\n",
       "      <td>0.882979</td>\n",
       "      <td>0.782609</td>\n",
       "      <td>0.940000</td>\n",
       "      <td>0.857143</td>\n",
       "      <td>0.818182</td>\n",
       "      <td>0.921569</td>\n",
       "      <td>0.857143</td>\n",
       "    </tr>\n",
       "    <tr>\n",
       "      <th>1</th>\n",
       "      <td>0.904255</td>\n",
       "      <td>0.736842</td>\n",
       "      <td>0.962264</td>\n",
       "      <td>0.909091</td>\n",
       "      <td>0.875000</td>\n",
       "      <td>0.927273</td>\n",
       "      <td>0.869565</td>\n",
       "    </tr>\n",
       "    <tr>\n",
       "      <th>2</th>\n",
       "      <td>0.936170</td>\n",
       "      <td>0.842105</td>\n",
       "      <td>0.981818</td>\n",
       "      <td>0.900000</td>\n",
       "      <td>0.941176</td>\n",
       "      <td>0.931034</td>\n",
       "      <td>0.947368</td>\n",
       "    </tr>\n",
       "    <tr>\n",
       "      <th>3</th>\n",
       "      <td>0.882979</td>\n",
       "      <td>0.736842</td>\n",
       "      <td>0.948276</td>\n",
       "      <td>0.823529</td>\n",
       "      <td>0.875000</td>\n",
       "      <td>0.916667</td>\n",
       "      <td>0.777778</td>\n",
       "    </tr>\n",
       "    <tr>\n",
       "      <th>4</th>\n",
       "      <td>0.936170</td>\n",
       "      <td>0.789474</td>\n",
       "      <td>0.966667</td>\n",
       "      <td>1.000000</td>\n",
       "      <td>0.937500</td>\n",
       "      <td>0.983051</td>\n",
       "      <td>0.789474</td>\n",
       "    </tr>\n",
       "    <tr>\n",
       "      <th>5</th>\n",
       "      <td>0.882979</td>\n",
       "      <td>0.866667</td>\n",
       "      <td>0.913793</td>\n",
       "      <td>0.809524</td>\n",
       "      <td>0.722222</td>\n",
       "      <td>0.963636</td>\n",
       "      <td>0.809524</td>\n",
       "    </tr>\n",
       "    <tr>\n",
       "      <th>6</th>\n",
       "      <td>0.893617</td>\n",
       "      <td>0.888889</td>\n",
       "      <td>0.948276</td>\n",
       "      <td>0.722222</td>\n",
       "      <td>0.761905</td>\n",
       "      <td>0.932203</td>\n",
       "      <td>0.928571</td>\n",
       "    </tr>\n",
       "    <tr>\n",
       "      <th>7</th>\n",
       "      <td>0.882979</td>\n",
       "      <td>0.818182</td>\n",
       "      <td>0.979167</td>\n",
       "      <td>0.750000</td>\n",
       "      <td>0.782609</td>\n",
       "      <td>0.940000</td>\n",
       "      <td>0.857143</td>\n",
       "    </tr>\n",
       "    <tr>\n",
       "      <th>8</th>\n",
       "      <td>0.914894</td>\n",
       "      <td>0.823529</td>\n",
       "      <td>0.966667</td>\n",
       "      <td>0.823529</td>\n",
       "      <td>0.875000</td>\n",
       "      <td>0.935484</td>\n",
       "      <td>0.875000</td>\n",
       "    </tr>\n",
       "    <tr>\n",
       "      <th>9</th>\n",
       "      <td>0.914894</td>\n",
       "      <td>0.789474</td>\n",
       "      <td>0.961538</td>\n",
       "      <td>0.913043</td>\n",
       "      <td>1.000000</td>\n",
       "      <td>0.925926</td>\n",
       "      <td>0.840000</td>\n",
       "    </tr>\n",
       "  </tbody>\n",
       "</table>\n",
       "</div>"
      ],
      "text/plain": [
       "   accuracy  insomnia_recall  none_recall  sleep_apnea_recall  \\\n",
       "0  0.882979         0.782609     0.940000            0.857143   \n",
       "1  0.904255         0.736842     0.962264            0.909091   \n",
       "2  0.936170         0.842105     0.981818            0.900000   \n",
       "3  0.882979         0.736842     0.948276            0.823529   \n",
       "4  0.936170         0.789474     0.966667            1.000000   \n",
       "5  0.882979         0.866667     0.913793            0.809524   \n",
       "6  0.893617         0.888889     0.948276            0.722222   \n",
       "7  0.882979         0.818182     0.979167            0.750000   \n",
       "8  0.914894         0.823529     0.966667            0.823529   \n",
       "9  0.914894         0.789474     0.961538            0.913043   \n",
       "\n",
       "   insomnia_precision  none_precision  sleep_apnea_precision  \n",
       "0            0.818182        0.921569               0.857143  \n",
       "1            0.875000        0.927273               0.869565  \n",
       "2            0.941176        0.931034               0.947368  \n",
       "3            0.875000        0.916667               0.777778  \n",
       "4            0.937500        0.983051               0.789474  \n",
       "5            0.722222        0.963636               0.809524  \n",
       "6            0.761905        0.932203               0.928571  \n",
       "7            0.782609        0.940000               0.857143  \n",
       "8            0.875000        0.935484               0.875000  \n",
       "9            1.000000        0.925926               0.840000  "
      ]
     },
     "execution_count": 186,
     "metadata": {},
     "output_type": "execute_result"
    }
   ],
   "source": [
    "#initial classification reports\n",
    "report_df = pd.DataFrame({'accuracy':accuracy, 'insomnia_recall':insomnia_recall,'none_recall':none_recall,'sleep_apnea_recall':sleep_apnea_recall,'insomnia_precision':insomnia_precision,'none_precision':none_precision,'sleep_apnea_precision':sleep_apnea_precision})\n",
    "report_df"
   ]
  },
  {
   "cell_type": "code",
   "execution_count": 174,
   "metadata": {},
   "outputs": [
    {
     "data": {
      "text/plain": [
       "accuracy                 0.912766\n",
       "insomnia_recall          0.816168\n",
       "none_recall              0.964113\n",
       "sleep_apnea_recall       0.853577\n",
       "insomnia_precision       0.890616\n",
       "none_precision           0.930384\n",
       "sleep_apnea_precision    0.892101\n",
       "dtype: float64"
      ]
     },
     "execution_count": 174,
     "metadata": {},
     "output_type": "execute_result"
    }
   ],
   "source": [
    "# average of final classification reports for equivalent models\n",
    "report_df.loc[[1,2,6,8,9],:].mean()"
   ]
  },
  {
   "cell_type": "code",
   "execution_count": 189,
   "metadata": {},
   "outputs": [
    {
     "data": {
      "text/plain": [
       "accuracy                 0.895745\n",
       "insomnia_recall          0.838459\n",
       "none_recall              0.949943\n",
       "sleep_apnea_recall       0.795844\n",
       "insomnia_precision       0.819964\n",
       "none_precision           0.922909\n",
       "sleep_apnea_precision    0.905931\n",
       "dtype: float64"
      ]
     },
     "execution_count": 189,
     "metadata": {},
     "output_type": "execute_result"
    }
   ],
   "source": [
    "# average of initial classification reports for equivalent models\n",
    "initial_report_df.loc[[1,2,6,8,9],:].mean()"
   ]
  },
  {
   "cell_type": "code",
   "execution_count": 187,
   "metadata": {},
   "outputs": [
    {
     "data": {
      "text/plain": [
       "0.8367640722990535"
      ]
     },
     "execution_count": 187,
     "metadata": {},
     "output_type": "execute_result"
    }
   ],
   "source": [
    "# average initial mean for disorder precision and recall\n",
    "initial_report_df.loc[:,['insomnia_recall','sleep_apnea_recall','insomnia_precision','sleep_apnea_precision']].mean().mean()"
   ]
  },
  {
   "cell_type": "code",
   "execution_count": 163,
   "metadata": {},
   "outputs": [
    {
     "data": {
      "text/plain": [
       "0.8430713611098"
      ]
     },
     "execution_count": 163,
     "metadata": {},
     "output_type": "execute_result"
    }
   ],
   "source": [
    "# average final mean for disorder precision and recall\n",
    "report_df.loc[:,['insomnia_recall','sleep_apnea_recall','insomnia_precision','sleep_apnea_precision']].mean().mean()"
   ]
  },
  {
   "cell_type": "code",
   "execution_count": 177,
   "metadata": {},
   "outputs": [
    {
     "data": {
      "text/plain": [
       "0    0.782609\n",
       "1    0.736842\n",
       "2    0.842105\n",
       "3    0.736842\n",
       "4    0.789474\n",
       "5    0.722222\n",
       "6    0.722222\n",
       "7    0.750000\n",
       "8    0.823529\n",
       "9    0.789474\n",
       "dtype: float64"
      ]
     },
     "execution_count": 177,
     "metadata": {},
     "output_type": "execute_result"
    }
   ],
   "source": [
    "#final minimum disorder classification score for each model \n",
    "report_df.loc[:,['insomnia_recall','sleep_apnea_recall','insomnia_precision','sleep_apnea_precision']].min(1)"
   ]
  },
  {
   "cell_type": "code",
   "execution_count": 176,
   "metadata": {},
   "outputs": [
    {
     "data": {
      "text/plain": [
       "array([[15.3,  1.8,  1.9],\n",
       "       [ 1.4, 52.8,  1. ],\n",
       "       [ 1.3,  1.7, 16.8]])"
      ]
     },
     "execution_count": 176,
     "metadata": {},
     "output_type": "execute_result"
    }
   ],
   "source": [
    "#average confusion matrix\n",
    "cm_total = np.array([[0,0,0],[0,0,0],[0,0,0]])\n",
    "for i in range(10):\n",
    "    cm_total = cm_total + cms[i]\n",
    "cm_avg = cm_total / 10\n",
    "cm_avg"
   ]
  },
  {
   "cell_type": "code",
   "execution_count": 193,
   "metadata": {},
   "outputs": [
    {
     "data": {
      "image/png": "[encoded data removed]",
      "text/plain": [
       "<Figure size 640x480 with 1 Axes>"
      ]
     },
     "metadata": {},
     "output_type": "display_data"
    }
   ],
   "source": [
    "#Make figures to demonstrate how the decision tree divides up the data\n",
    "# Normal BMI has no disorder\n",
    "normal_bmi = pd.DataFrame(y[sleep_df['BMI Category'] == 'Normal']).value_counts().plot.bar()\n",
    "normal_bmi.set_xlabel('Sleep Disorder',fontsize=15)\n",
    "normal_bmi.set_ylabel('Count',fontsize=15)\n",
    "normal_bmi.set_xticklabels(['None','Insomnia','Sleep Apnea'],fontsize=13,rotation=0)\n",
    "normal_bmi.set_title('Normal BMI',fontsize=16)\n",
    "normal_bmi.figure.savefig('normal_bmi.png')"
   ]
  },
  {
   "cell_type": "code",
   "execution_count": 195,
   "metadata": {},
   "outputs": [
    {
     "data": {
      "image/png": "[encoded data removed]",
      "text/plain": [
       "<Figure size 640x480 with 1 Axes>"
      ]
     },
     "metadata": {},
     "output_type": "display_data"
    }
   ],
   "source": [
    "# Overweight has mostly disorder\n",
    "overweight = pd.DataFrame(y[sleep_df['BMI Category'] != 'Normal']).value_counts().plot.bar()\n",
    "overweight.set_xlabel('Sleep Disorder',fontsize=15)\n",
    "overweight.set_ylabel('Count',fontsize=15)\n",
    "overweight.set_xticklabels(['Sleep Apnea','Insomnia','None'],fontsize=13,rotation=0)\n",
    "overweight.set_title('Overweight BMI',fontsize=16)\n",
    "overweight.figure.savefig('overweight.png')"
   ]
  },
  {
   "cell_type": "code",
   "execution_count": 196,
   "metadata": {},
   "outputs": [
    {
     "data": {
      "image/png": "[encoded data removed]",
      "text/plain": [
       "<Figure size 640x480 with 1 Axes>"
      ]
     },
     "metadata": {},
     "output_type": "display_data"
    }
   ],
   "source": [
    "#Determine majority of sleep apnea\n",
    "ow_active = pd.DataFrame(y[(sleep_df['Physical Activity Level'] > 70) & (sleep_df['BMI Category'] != 'Normal')]).value_counts().plot.bar()\n",
    "ow_active.set_xlabel('Sleep Disorder',fontsize=15)\n",
    "ow_active.set_ylabel('Count',fontsize=15)\n",
    "ow_active.set_xticklabels(['Sleep Apnea','None','Insomnia'],fontsize=13,rotation=0)\n",
    "ow_active.set_title('Overweight & Active',fontsize=16)\n",
    "ow_active.figure.savefig('overweight_active.png')"
   ]
  },
  {
   "cell_type": "code",
   "execution_count": 197,
   "metadata": {},
   "outputs": [
    {
     "data": {
      "image/png": "[encoded data removed]",
      "text/plain": [
       "<Figure size 640x480 with 1 Axes>"
      ]
     },
     "metadata": {},
     "output_type": "display_data"
    }
   ],
   "source": [
    "#Determine insomnia\n",
    "ow_inactive = pd.DataFrame(y[(sleep_df['Physical Activity Level'] <= 70) & (sleep_df['BMI Category'] != 'Normal')]).value_counts().plot.bar()\n",
    "ow_inactive.set_xlabel('Sleep Disorder',fontsize=15)\n",
    "ow_inactive.set_ylabel('Count',fontsize=15)\n",
    "ow_inactive.set_xticklabels(['Insomnia','None','Sleep Apnea'],fontsize=13,rotation=0)\n",
    "ow_inactive.set_title('Overweight & Inactive',fontsize=16)\n",
    "ow_inactive.figure.savefig('overweight_inactive.png')"
   ]
  },
  {
   "cell_type": "code",
   "execution_count": 198,
   "metadata": {},
   "outputs": [
    {
     "data": {
      "image/png": "[encoded data removed]",
      "text/plain": [
       "<Figure size 640x480 with 1 Axes>"
      ]
     },
     "metadata": {},
     "output_type": "display_data"
    }
   ],
   "source": [
    "#None separated from above plot\n",
    "ow_inactive_normal_bp = pd.DataFrame(y[(sleep_df['Physical Activity Level'] <= 70) & (sleep_df['BMI Category'] != 'Normal') & (sleep_df['Systolic Pressure'] <= 128.5)]).value_counts().plot.bar()\n",
    "ow_inactive_normal_bp.set_xlabel('Sleep Disorder',fontsize=15)\n",
    "ow_inactive_normal_bp.set_ylabel('Count',fontsize=15)\n",
    "ow_inactive_normal_bp.set_xticklabels(['None'],fontsize=13,rotation=0)\n",
    "ow_inactive_normal_bp.set_title('Overweight, Inactive, & Normal SP',fontsize=16)\n",
    "ow_inactive_normal_bp.figure.savefig('overweight_inactive_normal_bp.png')"
   ]
  },
  {
   "cell_type": "code",
   "execution_count": 681,
   "metadata": {},
   "outputs": [
    {
     "data": {
      "text/plain": [
       "<Axes: xlabel='0'>"
      ]
     },
     "execution_count": 681,
     "metadata": {},
     "output_type": "execute_result"
    },
    {
     "data": {
      "image/png": "[encoded data removed]",
      "text/plain": [
       "<Figure size 640x480 with 1 Axes>"
      ]
     },
     "metadata": {},
     "output_type": "display_data"
    }
   ],
   "source": [
    "# Separate sleep apnea from insomnia class\n",
    "#cutoff of 42.5 only works because of most insomnia lying right above 42.5. We expect there to be a much smaller number of women here. Could be conincidence that they have sleep apnea\n",
    "pd.DataFrame(y[(sleep_df['Physical Activity Level'] <= 70) & (sleep_df['BMI Category'] != 'Normal') & (sleep_df['Systolic Pressure'] > 128.5) & (sleep_df['Age'] <= 42.5)]).value_counts().plot.bar()"
   ]
  },
  {
   "cell_type": "code",
   "execution_count": 200,
   "metadata": {},
   "outputs": [
    {
     "data": {
      "image/png": "[encoded data removed]",
      "text/plain": [
       "<Figure size 640x480 with 1 Axes>"
      ]
     },
     "metadata": {},
     "output_type": "display_data"
    }
   ],
   "source": [
    "#classification affected by all insomnia age > 42 with many younger individuals with sleep apnea\n",
    "# misleading to say that younger means more likely to have sleep apnea?\n",
    "# Can we trust the insomnia distribution as representative?\n",
    "# What if spread is greater or older people are missing?\n",
    "insomnia_age = sleep_df.loc[y == 'Insomnia','Age'].plot.hist()#range=[42,46])\n",
    "insomnia_age.set_xlabel('Age',fontsize=15)\n",
    "insomnia_age.set_ylabel('Count',fontsize=15)\n",
    "insomnia_age.set_title('Insomnia Age Distribution',fontsize=16)\n",
    "insomnia_age.figure.savefig('insomnia_age.png')"
   ]
  },
  {
   "cell_type": "code",
   "execution_count": 201,
   "metadata": {},
   "outputs": [
    {
     "data": {
      "image/png": "[encoded data removed]",
      "text/plain": [
       "<Figure size 640x480 with 1 Axes>"
      ]
     },
     "metadata": {},
     "output_type": "display_data"
    }
   ],
   "source": [
    "sleep_apnea_age = sleep_df.loc[y == 'Sleep Apnea','Age'].plot.hist()\n",
    "sleep_apnea_age.set_xlabel('Age',fontsize=15)\n",
    "sleep_apnea_age.set_ylabel('Count',fontsize=15)\n",
    "sleep_apnea_age.set_title('Sleep Apnea Age Distribution',fontsize=16)\n",
    "sleep_apnea_age.figure.savefig('sleep_apnea_age.png')"
   ]
  },
  {
   "cell_type": "code",
   "execution_count": 245,
   "metadata": {},
   "outputs": [],
   "source": [
    "# Create a random forest classifier\n",
    "rf_model = RandomForestClassifier(n_estimators=1000)#,max_depth=3)#,max_samples=100)#,bootstrap=False)\n",
    "\n",
    "# Fitting the model\n",
    "rf_model = rf_model.fit(X_train, y_train)\n",
    "\n",
    "# Making predictions using the testing data\n",
    "predictions = rf_model.predict(X_test)"
   ]
  },
  {
   "cell_type": "code",
   "execution_count": 246,
   "metadata": {},
   "outputs": [
    {
     "data": {
      "text/plain": [
       "array([[17,  1,  0],\n",
       "       [ 1, 51,  1],\n",
       "       [ 2,  1, 20]])"
      ]
     },
     "execution_count": 246,
     "metadata": {},
     "output_type": "execute_result"
    }
   ],
   "source": [
    "confusion_matrix(y_test, predictions)\n"
   ]
  },
  {
   "cell_type": "code",
   "execution_count": 247,
   "metadata": {},
   "outputs": [
    {
     "data": {
      "text/plain": [
       "[(0.1487591879463577, 'Diastolic Pressure'),\n",
       " (0.14614803886034422, 'Systolic Pressure'),\n",
       " (0.14541553970469856, 'BMI Category_Normal'),\n",
       " (0.1141592271588242, 'Age'),\n",
       " (0.11065353205452581, 'Sleep Duration'),\n",
       " (0.0804625247314384, 'BMI Category_Overweight'),\n",
       " (0.06521466175303957, 'Physical Activity Level'),\n",
       " (0.05192395365451735, 'Daily Steps'),\n",
       " (0.04794551046758253, 'Heart Rate'),\n",
       " (0.03418253066127404, 'Stress Level'),\n",
       " (0.030900378705901607, 'Quality of Sleep'),\n",
       " (0.010405339934808069, 'Gender_Female'),\n",
       " (0.009767396460257545, 'Gender_Male'),\n",
       " (0.00406217790643043, 'BMI Category_Obese')]"
      ]
     },
     "execution_count": 247,
     "metadata": {},
     "output_type": "execute_result"
    }
   ],
   "source": [
    "# Random Forests in sklearn will automatically calculate feature importance\n",
    "importances = rf_model.feature_importances_\n",
    "# We can sort the features by their importance\n",
    "sorted(zip(rf_model.feature_importances_, X.columns), reverse=True)"
   ]
  },
  {
   "cell_type": "code",
   "execution_count": null,
   "metadata": {},
   "outputs": [],
   "source": [
    "# Scale data\n",
    "X_train_scaled = StandardScaler().fit_transform(X_train)\n",
    "X_test_scaled = StandardScaler().fit_transform(X_test)"
   ]
  },
  {
   "cell_type": "code",
   "execution_count": 82,
   "metadata": {},
   "outputs": [
    {
     "data": {
      "text/plain": [
       "array(['None', 'Insomnia', 'Sleep Apnea', 'Sleep Apnea', 'None',\n",
       "       'Insomnia', 'None', 'None', 'None', 'None', 'None', 'Sleep Apnea',\n",
       "       'None', 'None', 'Sleep Apnea', 'Sleep Apnea', 'None', 'None',\n",
       "       'None', 'Insomnia', 'Sleep Apnea', 'Sleep Apnea', 'None', 'None',\n",
       "       'None', 'None', 'Insomnia', 'None', 'None', 'Sleep Apnea',\n",
       "       'Insomnia', 'Insomnia', 'None', 'None', 'None', 'None', 'None',\n",
       "       'None', 'None', 'None', 'None', 'None', 'None', 'Sleep Apnea',\n",
       "       'None', 'None', 'None', 'None', 'None', 'Insomnia', 'Sleep Apnea',\n",
       "       'None', 'None', 'Insomnia', 'None', 'None', 'None', 'None', 'None',\n",
       "       'Insomnia', 'Sleep Apnea', 'None', 'Sleep Apnea', 'None',\n",
       "       'Sleep Apnea', 'None', 'None', 'None', 'Sleep Apnea', 'None',\n",
       "       'Sleep Apnea', 'None', 'None', 'Sleep Apnea', 'None', 'None',\n",
       "       'None', 'Sleep Apnea', 'None', 'Insomnia', 'None', 'None',\n",
       "       'Insomnia', 'None', 'Insomnia', 'None', 'None', 'None', 'None',\n",
       "       'Sleep Apnea', 'None', 'None', 'None', 'None'], dtype=object)"
      ]
     },
     "execution_count": 82,
     "metadata": {},
     "output_type": "execute_result"
    }
   ],
   "source": [
    "# Instantiate the model with k = 3 neighbors\n",
    "model = KNeighborsClassifier(n_neighbors=3)\n",
    "\n",
    "# Train the model\n",
    "model.fit(X_train_scaled, y_train)\n",
    "\n",
    "# Create predictions\n",
    "y_pred = model.predict(X_test_scaled)\n",
    "\n",
    "# Review the predictions\n",
    "y_pred"
   ]
  },
  {
   "cell_type": "code",
   "execution_count": 83,
   "metadata": {},
   "outputs": [
    {
     "data": {
      "text/plain": [
       "array([[11,  7,  1],\n",
       "       [ 0, 52,  2],\n",
       "       [ 1,  5, 15]])"
      ]
     },
     "execution_count": 83,
     "metadata": {},
     "output_type": "execute_result"
    }
   ],
   "source": [
    "confusion_matrix(y_test,y_pred)"
   ]
  },
  {
   "cell_type": "code",
   "execution_count": null,
   "metadata": {},
   "outputs": [],
   "source": []
  }
 ],
 "metadata": {
  "kernelspec": {
   "display_name": "dev",
   "language": "python",
   "name": "python3"
  },
  "language_info": {
   "codemirror_mode": {
    "name": "ipython",
    "version": 3
   },
   "file_extension": ".py",
   "mimetype": "text/x-python",
   "name": "python",
   "nbconvert_exporter": "python",
   "pygments_lexer": "ipython3",
   "version": "3.10.13"
  }
 },
 "nbformat": 4,
 "nbformat_minor": 2
}
